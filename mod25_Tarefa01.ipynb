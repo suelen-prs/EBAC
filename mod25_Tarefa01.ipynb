{
  "cells": [
    {
      "cell_type": "markdown",
      "metadata": {
        "id": "view-in-github",
        "colab_type": "text"
      },
      "source": [
        "<a href=\"https://colab.research.google.com/github/suelen-prs/EBAC/blob/main/mod25_Tarefa01.ipynb\" target=\"_parent\"><img src=\"https://colab.research.google.com/assets/colab-badge.svg\" alt=\"Open In Colab\"/></a>"
      ]
    },
    {
      "cell_type": "markdown",
      "metadata": {
        "id": "r7CryTo_3ltV"
      },
      "source": [
        "# Cálculo - Tarefa 01\n",
        "\n",
        "1. Marque quais desses métodos/algoritmos muito populares em ciência de dados são baseados no uso de derivada:\n",
        "\n",
        "    1. Método Mínimos Quadrados\n",
        "    **X** 2. Gradiente descendente\n",
        "    \n",
        "    **X** 3. Newton Raphson\n",
        "    4. CART (Árvore de decisão)"
      ]
    },
    {
      "cell_type": "markdown",
      "metadata": {
        "id": "eQz-K4kQ3ltb"
      },
      "source": [
        "2. Dada uma base de dados com uma variável resposta $y$ e um conjunto de variáveis explicativas. Considere uma estrutura de um modelo de regressão. Explique com suas palavras por que não é possível obter parâmetros que forneçam um erro quadrático médio (EQM) menor que o obtido com estimadores de mínimos quadrados."
      ]
    },
    {
      "cell_type": "markdown",
      "source": [
        "\n",
        "O Método dos Mínimos Quadrados é uma técnica matemática usada para encontrar os parâmetros (coeficientes) de um modelo de regressão de forma que a soma dos quadrados das diferenças (resíduos) entre os valores observados e os valores previstos pelo modelo seja minimizada. Em outras palavras, o método busca os parâmetros que fazem com que o modelo se ajuste da melhor maneira possível aos dados, no sentido de minimizar a soma dos quadrados dos erros.\n",
        "\n",
        "A razão pela qual não é possível obter um Erro Quadrático Médio (EQM) menor que o obtido com os estimadores de Mínimos Quadrados (dentro do contexto de modelos lineares e assumindo todas as premissas do modelo linear clássico) é que este método fornece a solução ótima - isto é, os estimadores que realmente minimizam o EQM entre os valores observados e previstos. Matematicamente, os Mínimos Quadrados encontram o ponto de mínimo global da função de custo (que, neste caso, é a soma dos quadrados dos resíduos).\n",
        "\n",
        "Os Mínimos Quadrados são baseados em princípios da álgebra linear e do cálculo diferencial, onde os parâmetros estimados resultam da solução de um sistema de equações lineares derivadas das condições de primeira ordem para um mínimo da função de custo. Portanto, dentro das condições e suposições padrão do modelo linear (por exemplo, linearidade, homocedasticidade, independência dos erros), os parâmetros estimados pelos Mínimos Quadrados são teoricamente os que minimizam o EQM.\n",
        "\n",
        "Qualquer outro método que busque estimar os parâmetros do modelo sem minimizar diretamente a soma dos quadrados dos resíduos (ou que opere sob premissas diferentes) não garantirá, em geral, um EQM menor, pois o método dos Mínimos Quadrados é otimizado exatamente para essa finalidade no contexto de regressão linear. Em casos específicos onde as premissas do modelo linear não são atendidas, outras técnicas podem ser mais adequadas e podem potencialmente oferecer melhores resultados em termos de redução do erro, mas esses são contextos que vão além do escopo dos Mínimos Quadrados clássicos."
      ],
      "metadata": {
        "id": "bSqBRO3C4vYg"
      }
    }
  ],
  "metadata": {
    "kernelspec": {
      "display_name": "Python 3",
      "language": "python",
      "name": "python3"
    },
    "language_info": {
      "codemirror_mode": {
        "name": "ipython",
        "version": 3
      },
      "file_extension": ".py",
      "mimetype": "text/x-python",
      "name": "python",
      "nbconvert_exporter": "python",
      "pygments_lexer": "ipython3",
      "version": "3.8.5"
    },
    "toc": {
      "base_numbering": 1,
      "nav_menu": {},
      "number_sections": true,
      "sideBar": true,
      "skip_h1_title": true,
      "title_cell": "Índice",
      "title_sidebar": "Conteúdo",
      "toc_cell": false,
      "toc_position": {},
      "toc_section_display": true,
      "toc_window_display": false
    },
    "varInspector": {
      "cols": {
        "lenName": 16,
        "lenType": 16,
        "lenVar": 40
      },
      "kernels_config": {
        "python": {
          "delete_cmd_postfix": "",
          "delete_cmd_prefix": "del ",
          "library": "var_list.py",
          "varRefreshCmd": "print(var_dic_list())"
        },
        "r": {
          "delete_cmd_postfix": ") ",
          "delete_cmd_prefix": "rm(",
          "library": "var_list.r",
          "varRefreshCmd": "cat(var_dic_list()) "
        }
      },
      "types_to_exclude": [
        "module",
        "function",
        "builtin_function_or_method",
        "instance",
        "_Feature"
      ],
      "window_display": false
    },
    "colab": {
      "provenance": [],
      "include_colab_link": true
    }
  },
  "nbformat": 4,
  "nbformat_minor": 0
}