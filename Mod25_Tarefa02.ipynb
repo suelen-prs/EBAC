{
  "cells": [
    {
      "cell_type": "markdown",
      "metadata": {
        "id": "view-in-github",
        "colab_type": "text"
      },
      "source": [
        "<a href=\"https://colab.research.google.com/github/suelen-prs/EBAC/blob/main/Mod25_Tarefa02.ipynb\" target=\"_parent\"><img src=\"https://colab.research.google.com/assets/colab-badge.svg\" alt=\"Open In Colab\"/></a>"
      ]
    },
    {
      "cell_type": "markdown",
      "metadata": {
        "id": "h0mSF7Gd88Bt"
      },
      "source": [
        "# Cálculo - Tarefa 02\n",
        "\n",
        "1- Calcule de forma numérica a integral da função $x^3$ avaliada entre os pontos $1$ e $2$. Identifique o número de retângulos que você usou.  \n"
      ]
    },
    {
      "cell_type": "code",
      "execution_count": 1,
      "metadata": {
        "colab": {
          "base_uri": "https://localhost:8080/"
        },
        "id": "HhmkeSVj88Bw",
        "outputId": "2cb6e05a-5b57-4e01-adc6-1984fa613f11"
      },
      "outputs": [
        {
          "output_type": "stream",
          "name": "stdout",
          "text": [
            "Área numérica: 3.7465007500000005 usando 1000 retângulos\n"
          ]
        }
      ],
      "source": [
        "import numpy as np\n",
        "\n",
        "# Função a ser integrada\n",
        "def f(x):\n",
        "    return x**3\n",
        "\n",
        "# Limites de integração\n",
        "a, b = 1, 2\n",
        "# Número de retângulos\n",
        "n = 1000\n",
        "# Largura de cada retângulo\n",
        "dx = (b - a) / n\n",
        "# Coordenadas x de cada retângulo\n",
        "x = np.linspace(a, b-dx, n)\n",
        "\n",
        "# Soma das áreas dos retângulos\n",
        "area_numerica = np.sum(f(x) * dx)\n",
        "\n",
        "print(f\"Área numérica: {area_numerica} usando {n} retângulos\")\n"
      ]
    },
    {
      "cell_type": "markdown",
      "source": [
        "2- Calcule essa área de forma analítica."
      ],
      "metadata": {
        "id": "SAAIEZu89Kn-"
      }
    },
    {
      "cell_type": "code",
      "source": [
        "# A função integral de f(x) = x^3 é F(x) = (1/4)x^4\n",
        "\n",
        "# Calculando F(x) nos limites de integração\n",
        "a, b = 1, 2\n",
        "F_a = (1/4) * a**4\n",
        "F_b = (1/4) * b**4\n",
        "\n",
        "# Área sob a curva é F(b) - F(a)\n",
        "area_analitica = F_b - F_a\n",
        "\n",
        "print(f\"Resultado da integral (analítico): {area_analitica}\")\n"
      ],
      "metadata": {
        "colab": {
          "base_uri": "https://localhost:8080/"
        },
        "id": "oW0WXKS59ql-",
        "outputId": "96ca6e15-290d-43a0-842f-17f0a75e488e"
      },
      "execution_count": 3,
      "outputs": [
        {
          "output_type": "stream",
          "name": "stdout",
          "text": [
            "Resultado da integral (analítico): 3.75\n"
          ]
        }
      ]
    },
    {
      "cell_type": "code",
      "source": [],
      "metadata": {
        "id": "W4W-rU6-9rMh"
      },
      "execution_count": null,
      "outputs": []
    }
  ],
  "metadata": {
    "kernelspec": {
      "display_name": "Python 3",
      "language": "python",
      "name": "python3"
    },
    "language_info": {
      "codemirror_mode": {
        "name": "ipython",
        "version": 3
      },
      "file_extension": ".py",
      "mimetype": "text/x-python",
      "name": "python",
      "nbconvert_exporter": "python",
      "pygments_lexer": "ipython3",
      "version": "3.8.5"
    },
    "toc": {
      "base_numbering": 1,
      "nav_menu": {},
      "number_sections": true,
      "sideBar": true,
      "skip_h1_title": true,
      "title_cell": "Índice",
      "title_sidebar": "Conteúdo",
      "toc_cell": false,
      "toc_position": {},
      "toc_section_display": true,
      "toc_window_display": false
    },
    "varInspector": {
      "cols": {
        "lenName": 16,
        "lenType": 16,
        "lenVar": 40
      },
      "kernels_config": {
        "python": {
          "delete_cmd_postfix": "",
          "delete_cmd_prefix": "del ",
          "library": "var_list.py",
          "varRefreshCmd": "print(var_dic_list())"
        },
        "r": {
          "delete_cmd_postfix": ") ",
          "delete_cmd_prefix": "rm(",
          "library": "var_list.r",
          "varRefreshCmd": "cat(var_dic_list()) "
        }
      },
      "types_to_exclude": [
        "module",
        "function",
        "builtin_function_or_method",
        "instance",
        "_Feature"
      ],
      "window_display": false
    },
    "colab": {
      "provenance": [],
      "include_colab_link": true
    }
  },
  "nbformat": 4,
  "nbformat_minor": 0
}